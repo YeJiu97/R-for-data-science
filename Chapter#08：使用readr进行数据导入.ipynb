{
 "cells": [
  {
   "cell_type": "markdown",
   "id": "329ac912-512f-41e4-b09f-0cee7e08bfa8",
   "metadata": {},
   "source": [
    "# 入门"
   ]
  },
  {
   "cell_type": "markdown",
   "id": "df185f8e-84bc-4006-86b4-a8463712ef76",
   "metadata": {},
   "source": [
    "readr是tidyverse的核心函数之一。"
   ]
  },
  {
   "cell_type": "code",
   "execution_count": 1,
   "id": "4cf32d43-b60d-4b22-b8c1-67c90450bb52",
   "metadata": {},
   "outputs": [
    {
     "name": "stderr",
     "output_type": "stream",
     "text": [
      "── \u001b[1mAttaching core tidyverse packages\u001b[22m ──────────────────────── tidyverse 2.0.0 ──\n",
      "\u001b[32m✔\u001b[39m \u001b[34mdplyr    \u001b[39m 1.1.4     \u001b[32m✔\u001b[39m \u001b[34mreadr    \u001b[39m 2.1.5\n",
      "\u001b[32m✔\u001b[39m \u001b[34mforcats  \u001b[39m 1.0.0     \u001b[32m✔\u001b[39m \u001b[34mstringr  \u001b[39m 1.5.1\n",
      "\u001b[32m✔\u001b[39m \u001b[34mggplot2  \u001b[39m 3.5.0     \u001b[32m✔\u001b[39m \u001b[34mtibble   \u001b[39m 3.2.1\n",
      "\u001b[32m✔\u001b[39m \u001b[34mlubridate\u001b[39m 1.9.3     \u001b[32m✔\u001b[39m \u001b[34mtidyr    \u001b[39m 1.3.1\n",
      "\u001b[32m✔\u001b[39m \u001b[34mpurrr    \u001b[39m 1.0.2     \n",
      "── \u001b[1mConflicts\u001b[22m ────────────────────────────────────────── tidyverse_conflicts() ──\n",
      "\u001b[31m✖\u001b[39m \u001b[34mdplyr\u001b[39m::\u001b[32mfilter()\u001b[39m masks \u001b[34mstats\u001b[39m::filter()\n",
      "\u001b[31m✖\u001b[39m \u001b[34mdplyr\u001b[39m::\u001b[32mlag()\u001b[39m    masks \u001b[34mstats\u001b[39m::lag()\n",
      "\u001b[36mℹ\u001b[39m Use the conflicted package (\u001b[3m\u001b[34m<http://conflicted.r-lib.org/>\u001b[39m\u001b[23m) to force all conflicts to become errors\n"
     ]
    }
   ],
   "source": [
    "library(tidyverse)"
   ]
  },
  {
   "cell_type": "markdown",
   "id": "66f380b5-e9b1-4e67-98a2-39729ccba61e",
   "metadata": {},
   "source": [
    "readr的多数函数用来将平面文件转换为数据框，:\n",
    "\n",
    "1. read_csv()函数：用来导入用,隔开的csv数据集\n",
    "2. read_csv2()函数：用来读取使用分割号分隔开的数据集，因为有一些国家小数点使用了,来进行表示\n",
    "3. read_tsv()函数：读取制表符分隔文件\n",
    "4. read_delim()函数：可以读取任意分隔符的文件"
   ]
  },
  {
   "cell_type": "markdown",
   "id": "570927ad-7cd0-4059-a316-cc2fcb0d919c",
   "metadata": {},
   "source": [
    "其他的可能会使用到的函数：\n",
    "\n",
    "1. read_fwf() 读取固定宽度的文件。既可以使用 fwf_widths() 函数按照宽度来设定域，也可以使用 fwf_positions() 函数按照位置来设定域。\n",
    "2. read_table() 读取固定宽度文件的一种常用变体，其中使用空白字符来分隔各列。\n",
    "3. read_log() 读取 Apache 风格的日志文件。（但需要检查是否安装了 webreadr 包）"
   ]
  },
  {
   "cell_type": "markdown",
   "id": "0d16651b-fb68-4fd9-a78b-61d2e625cb24",
   "metadata": {},
   "source": [
    "这些函数的语法是相同的："
   ]
  },
  {
   "cell_type": "code",
   "execution_count": 3,
   "id": "7008779b-0370-48c4-85f5-c27ee997c9cc",
   "metadata": {},
   "outputs": [
    {
     "name": "stderr",
     "output_type": "stream",
     "text": [
      "\u001b[1mRows: \u001b[22m\u001b[34m1192\u001b[39m \u001b[1mColumns: \u001b[22m\u001b[34m6\u001b[39m\n",
      "\u001b[36m──\u001b[39m \u001b[1mColumn specification\u001b[22m \u001b[36m────────────────────────────────────────────────────────\u001b[39m\n",
      "\u001b[1mDelimiter:\u001b[22m \",\"\n",
      "\u001b[31mchr\u001b[39m (2): sex, race\n",
      "\u001b[32mdbl\u001b[39m (4): earn, height, ed, age\n",
      "\n",
      "\u001b[36mℹ\u001b[39m Use `spec()` to retrieve the full column specification for this data.\n",
      "\u001b[36mℹ\u001b[39m Specify the column types or set `show_col_types = FALSE` to quiet this message.\n"
     ]
    }
   ],
   "source": [
    "heights <- read_csv(\"data/heights.csv\")"
   ]
  },
  {
   "cell_type": "markdown",
   "id": "b3864566-2dbb-43bc-a8af-5d916e15a1c3",
   "metadata": {},
   "source": []
  }
 ],
 "metadata": {
  "kernelspec": {
   "display_name": "R",
   "language": "R",
   "name": "ir"
  },
  "language_info": {
   "codemirror_mode": "r",
   "file_extension": ".r",
   "mimetype": "text/x-r-source",
   "name": "R",
   "pygments_lexer": "r",
   "version": "4.3.3"
  }
 },
 "nbformat": 4,
 "nbformat_minor": 5
}
